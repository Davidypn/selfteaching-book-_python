{
 "cells": [
  {
   "cell_type": "markdown",
   "metadata": {},
   "source": [
    "# bytearray and bytes\n",
    ">> 这两个鬼东西，在官方文档里面出现的相当之多啊。  \n",
    "[官方资料](https://docs.python.org/3/library/stdtypes.html?highlight=index#bytes)  \n",
    ">bytearray objects are a mutable counterpart to bytes objects.  \n",
    ">bytes object  "
   ]
  },
  {
   "cell_type": "markdown",
   "metadata": {},
   "source": [
    "# sys.argv\n",
    ">sya.argv[0]  是文件本身。  \n",
    ">sys.argv[1] 是文件的，传入的参数。比如说python beer.py 10   sys.argv[1] 就是10"
   ]
  },
  {
   "cell_type": "code",
   "execution_count": null,
   "metadata": {},
   "outputs": [],
   "source": []
  },
  {
   "cell_type": "code",
   "execution_count": null,
   "metadata": {},
   "outputs": [],
   "source": []
  }
 ],
 "metadata": {
  "kernelspec": {
   "display_name": "Python 3",
   "language": "python",
   "name": "python3"
  },
  "language_info": {
   "codemirror_mode": {
    "name": "ipython",
    "version": 3
   },
   "file_extension": ".py",
   "mimetype": "text/x-python",
   "name": "python",
   "nbconvert_exporter": "python",
   "pygments_lexer": "ipython3",
   "version": "3.7.1"
  }
 },
 "nbformat": 4,
 "nbformat_minor": 2
}
