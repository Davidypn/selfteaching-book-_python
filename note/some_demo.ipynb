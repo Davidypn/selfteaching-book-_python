{
 "cells": [
  {
   "cell_type": "markdown",
   "metadata": {},
   "source": [
    "## python practice\n",
    "[地址](https://pythonbasics.org/Exercises/)\n",
    "### 1.variables\n",
    "+ Make a program that displays several numbers.\n",
    "+ Make a program that solves and shows the summation of 64 + 32.\n",
    "+ Do the same as in 2, but make it sum x + y."
   ]
  },
  {
   "cell_type": "code",
   "execution_count": 1,
   "metadata": {},
   "outputs": [
    {
     "name": "stdout",
     "output_type": "stream",
     "text": [
      "96\n",
      "96\n"
     ]
    }
   ],
   "source": [
    "x = 64\n",
    "y = 32\n",
    "print(x + y)\n",
    "z = x + y\n",
    "print(z)"
   ]
  },
  {
   "cell_type": "markdown",
   "metadata": {},
   "source": []
  },
  {
   "cell_type": "markdown",
   "metadata": {},
   "source": [
    "## 2. strings\n",
    "+ Make a program that displays your favourite actor/actress.\n",
    "+ Try to print the word ‘lucky’ inside s.\n",
    "+ Try to print the day, month, year in the form “Today is 2/2/2016”."
   ]
  },
  {
   "cell_type": "code",
   "execution_count": 9,
   "metadata": {},
   "outputs": [
    {
     "name": "stdout",
     "output_type": "stream",
     "text": [
      "my favourite actress isli\n",
      "My lucky number is 7, what is yours?\n",
      "Today is 20/3/2019\n"
     ]
    }
   ],
   "source": [
    "youFavouriteActress = \"li\"\n",
    "print(\"my favourite actress is\" + youFavouriteActress)\n",
    "s = \"My lucky number is %d, what is yours?\" % 7  # combine the number and text\n",
    "print(s)\n",
    "print(\"Today is 20/3/2019\")"
   ]
  },
  {
   "cell_type": "markdown",
   "metadata": {},
   "source": [
    "## 3. string replace\n",
    ">Python has builtin support for string replacement. A string is a variable that contains text data\n",
    "\n",
    "---------------\n",
    ">> 关于repalce的官方文档。  \n",
    ">>bytes.replace(old, new[, count])  \n",
    ">>bytearray.replace(old, new[, count])  \n",
    ">>Return a copy of the sequence with all occurrences of subsequence old replaced by new. If the optional argument count is given, only the first count occurrences are replaced.  \n",
    ">>The subsequence to search for and its replacement may be any bytes-like object.  \n",
    ">>Note The bytearray version of this method does not operate in place - it always produces a new object, even if no changes were made.  \n",
    "\n",
    ">> 人话就是：会返回一个新的数据，但是是用新的代替了就得，count默认是全部替换，如果count写几，就换几个。count是整数,old and new must be str\n",
    "\n",
    ">> 但是问题是bytes  and bytearray是什么东西了？\n",
    "\n",
    "+ Try the replace program\n",
    "+ Can a string be replaced twice?\n",
    "+ Does replace only work with words or also phrases?"
   ]
  },
  {
   "cell_type": "code",
   "execution_count": 30,
   "metadata": {},
   "outputs": [
    {
     "name": "stdout",
     "output_type": "stream",
     "text": [
      "Hello Universe\n",
      "Hello World World World\n",
      "Hello Universe World World\n",
      "Hello Universe Universe World\n",
      "Hello you you you\n",
      "Hello 1 1 1\n",
      "64\n"
     ]
    }
   ],
   "source": [
    "s = \"Hello World\"\n",
    "s = s.replace(\"World\",\"Universe\")\n",
    "print(s)\n",
    "# 这里其实涉及到一个问题就是，啥时候用s. 啥时候用一个函数。。\n",
    "s = \"Hello World World World\"\n",
    "r= s.replace(\"World\",\"Universe\",1)\n",
    "r1 =s.replace(\"World\",\"Universe\",2)\n",
    "w =s.replace(\"World\",\"you\")\n",
    "w1 =s.replace(\"World\",\"you\").replace(\"you\",\"1\")\n",
    "\n",
    "# x = [1,1,2,5].replace(1,3)   这里会报错的。\n",
    "#x =125689.replace(1,2)\n",
    "print(s)  # s not change\n",
    "print(r)\n",
    "print(r1)\n",
    "print(w)\n",
    "print(w1)\n",
    "print(x)  #在这个cellipynb文件里面，所有的x都是通用的啊。6666\n"
   ]
  },
  {
   "cell_type": "code",
   "execution_count": 3,
   "metadata": {},
   "outputs": [
    {
     "name": "stdout",
     "output_type": "stream",
     "text": [
      "123,124,132,134,142,143,213,214,231,234,241,243,312,314,321,324,341,342,412,413,421,423,431,432,"
     ]
    }
   ],
   "source": [
    "#这里有四个数字，分别是：1、2、3、4\n",
    "# 提问：能组成多少个互不相同且无重复数字的三位数？各是多少？\n",
    "\n",
    "for a in range(1,5):\n",
    "    for b in range(1,5):\n",
    "        for c in range(1,5):\n",
    "            if a !=b and b !=c and c !=a:\n",
    "                print(a,b,c,sep=\"\",end=\",\")"
   ]
  },
  {
   "cell_type": "code",
   "execution_count": 4,
   "metadata": {},
   "outputs": [
    {
     "name": "stdin",
     "output_type": "stream",
     "text": [
      "净利润: 150000\n"
     ]
    },
    {
     "name": "stdout",
     "output_type": "stream",
     "text": [
      "13750.0\n"
     ]
    }
   ],
   "source": [
    "# 企业发放的奖金根据利润提成。利润(I)低于或等于10万元时，奖金可提10%；利润高于10万元，低于20万元时，\n",
    "# 低于10万元的部分按10%提成，高于10万元的部分，可提成7.5%；20万到40万之间时，高于20万元的部分，可提成5%；\n",
    "# 40万到60万之间时高于40万元的部分，可提成3%；60万到100万之间时，高于60万元的部分，可提成1.5%，高于100万元时，\n",
    "# 超过100万元的部分按1%提成.\n",
    "\n",
    "# profile =int(input(\"请输入今年利润，单位元\"))\n",
    "# if profile < 100000:\n",
    "#     get_money = profile * 0.1\n",
    "# elif profile >100000 and profile <200000:\n",
    "#     get_money = (profile - 100000)*0.075 +10000\n",
    "# elif profile >200000 and profile < 400000:\n",
    "#     get_money = (profile - 200000) * 0.05 + 7500 + 10000\n",
    "# elif profile >400000 and profile < 600000:\n",
    "#     get_money =(profile -400000)* 0.03 +5000+7500+10000\n",
    "# elif profile > 600000 and profile < 1000000:\n",
    "#     get_money =(profile -600000)*0.015 +10000 + 7500 +10000\n",
    "# elif profile >1000000:\n",
    "#     get_money = (profile -1000000) *0.01 + 6000 +6000+10000+7500+10000\n",
    "# print(get_money)\n",
    "\n",
    "\n",
    "i = int(input('净利润:'))\n",
    "arr = [1000000,600000,400000,200000,100000,0]\n",
    "rat = [0.01,0.015,0.03,0.05,0.075,0.1]\n",
    "r = 0\n",
    "for idx in range(0,6):\n",
    "    if i>arr[idx]:\n",
    "        r+=(i-arr[idx])*rat[idx]\n",
    "#         print ((i-arr[idx])*rat[idx])\n",
    "        i=arr[idx]\n",
    "print(r)"
   ]
  },
  {
   "cell_type": "code",
   "execution_count": 8,
   "metadata": {},
   "outputs": [
    {
     "name": "stdout",
     "output_type": "stream",
     "text": [
      "<class 'int'>\n",
      "True\n",
      "21\n",
      "261\n",
      "1581\n"
     ]
    }
   ],
   "source": [
    "# 简述：一个整数，它加上100和加上268后都是一个完全平方数\n",
    "# 提问：请问该数是多少？\n",
    "# import math\n",
    "# print(math.sqrt(9))\n",
    "# type(\"hellow\")\n",
    "# for i in range(0,10000):\n",
    "#     if type(math.sqrt(i + 100) ==int) and type(math.sqrt(i+268) ==int):\n",
    "#         print(i) \n",
    "y = 9\n",
    "z= type(y)\n",
    "print(type(y))\n",
    "print(z == int)\n",
    "\n",
    "import math\n",
    "for i in range(10000):\n",
    "#转化为整型值\n",
    "    x = int(math.sqrt(i + 100))\n",
    "    y = int(math.sqrt(i + 268))\n",
    "    if(x * x == i + 100) and (y * y == i + 268):\n",
    "        print(i)"
   ]
  },
  {
   "cell_type": "code",
   "execution_count": null,
   "metadata": {},
   "outputs": [],
   "source": [
    "# 简述：要求输入某年某月某日\n",
    "# 提问：求判断输入日期是当年中的第几天？\n",
    "\n",
    "today_year =int(input(\"年\"))\n",
    "today_month =int(input(\"月\"))\n",
    "today_day =int(input(\"日\"))\n",
    "\n",
    "month =list(range(1,13))\n",
    "day =[31,28,30,30,31,30,31,30,30,31,30,31]\n",
    "how_much_days =0\n",
    "for i in day[1:today_month]:\n",
    "    how_much_days += day[i]\n",
    "how_much_days =how_much_days+ today_day\n",
    "print(how_much_days)\n",
    "    \n",
    "\n"
   ]
  },
  {
   "cell_type": "code",
   "execution_count": null,
   "metadata": {},
   "outputs": [],
   "source": []
  }
 ],
 "metadata": {
  "kernelspec": {
   "display_name": "Python 3",
   "language": "python",
   "name": "python3"
  },
  "language_info": {
   "codemirror_mode": {
    "name": "ipython",
    "version": 3
   },
   "file_extension": ".py",
   "mimetype": "text/x-python",
   "name": "python",
   "nbconvert_exporter": "python",
   "pygments_lexer": "ipython3",
   "version": "3.7.1"
  }
 },
 "nbformat": 4,
 "nbformat_minor": 2
}
